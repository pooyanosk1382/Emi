{
 "cells": [
  {
   "cell_type": "code",
   "execution_count": null,
   "outputs": [],
   "source": [
    "# This data is analyzed by pooyan :)"
   ],
   "metadata": {
    "collapsed": false,
    "pycharm": {
     "name": "#%%\n"
    }
   }
  },
  {
   "cell_type": "code",
   "execution_count": 2,
   "outputs": [],
   "source": [
    "from mpl_toolkits.mplot3d import Axes3D\n",
    "from sklearn.preprocessing import StandardScaler\n",
    "import matplotlib.pyplot as plt\n",
    "import numpy as np\n",
    "import os\n",
    "import pandas as pd"
   ],
   "metadata": {
    "collapsed": false,
    "pycharm": {
     "name": "#%%\n"
    }
   }
  },
  {
   "cell_type": "code",
   "execution_count": 3,
   "outputs": [
    {
     "name": "stdout",
     "output_type": "stream",
     "text": [
      "There are 208 rows and 28 columns\n"
     ]
    }
   ],
   "source": [
    "df1 = pd.read_csv('all.csv')\n",
    "df1.dataframeName = 'all.csv'\n",
    "nRow, nCol = df1.shape\n",
    "print(f'There are {nRow} rows and {nCol} columns')"
   ],
   "metadata": {
    "collapsed": false,
    "pycharm": {
     "name": "#%%\n"
    }
   }
  },
  {
   "cell_type": "code",
   "execution_count": 4,
   "outputs": [
    {
     "data": {
      "text/plain": "                                   available_markets  disc_number  \\\n0  ['AD', 'AE', 'AR', 'AT', 'AU', 'BE', 'BG', 'BH...            1   \n1  ['AD', 'AE', 'AR', 'AT', 'AU', 'BE', 'BG', 'BH...            1   \n2  ['AD', 'AE', 'AR', 'AT', 'AU', 'BE', 'BG', 'BH...            1   \n3  ['AD', 'AE', 'AR', 'AT', 'AU', 'BE', 'BG', 'BH...            1   \n4  ['AD', 'AE', 'AR', 'AT', 'AU', 'BE', 'BG', 'BH...            1   \n\n   duration_ms_x  explicit                      id  \\\n0          33093      True  59z8uxWZVFpL2LfZ5C9AzY   \n1         268400      True  0Fv6CfegUbD5Egs0dj8CVB   \n2         199333      True  2iW8D4Vdy8lrOEBkYEJOzd   \n3         226706      True  7iwK7RjGGJW9jdPj8ny754   \n4          15800      True  4QB28IqGl9W8sDcIK7eBIW   \n\n                          name  track_number  danceability  energy  key  ...  \\\n0  Public Service Announcement             1         0.660   0.199    9  ...   \n1                   My Name Is             2         0.845   0.682    9  ...   \n2            Guilty Conscience             3         0.723   0.786    7  ...   \n3                 Brain Damage             4         0.871   0.602    2  ...   \n4                  Paul - Skit             5         0.829   0.253   10  ...   \n\n   time_signature                  album_name  album_released  \\\n0               1  The Slim Shady LP Expanded         2/23/99   \n1               4  The Slim Shady LP Expanded         2/23/99   \n2               4  The Slim Shady LP Expanded         2/23/99   \n3               4  The Slim Shady LP Expanded         2/23/99   \n4               3  The Slim Shady LP Expanded         2/23/99   \n\n   album_peaked_on  days_to_peak  total_sales_US  swear_words_album  \\\n0          3/13/99            18       4,000,000              210.0   \n1          3/13/99            18       4,000,000              210.0   \n2          3/13/99            18       4,000,000              210.0   \n3          3/13/99            18       4,000,000              210.0   \n4          3/13/99            18       4,000,000              210.0   \n\n   number_of_songs  duration_of_album duration_per_song  \n0               30          92.683183          3.089439  \n1               30          92.683183          3.089439  \n2               30          92.683183          3.089439  \n3               30          92.683183          3.089439  \n4               30          92.683183          3.089439  \n\n[5 rows x 28 columns]",
      "text/html": "<div>\n<style scoped>\n    .dataframe tbody tr th:only-of-type {\n        vertical-align: middle;\n    }\n\n    .dataframe tbody tr th {\n        vertical-align: top;\n    }\n\n    .dataframe thead th {\n        text-align: right;\n    }\n</style>\n<table border=\"1\" class=\"dataframe\">\n  <thead>\n    <tr style=\"text-align: right;\">\n      <th></th>\n      <th>available_markets</th>\n      <th>disc_number</th>\n      <th>duration_ms_x</th>\n      <th>explicit</th>\n      <th>id</th>\n      <th>name</th>\n      <th>track_number</th>\n      <th>danceability</th>\n      <th>energy</th>\n      <th>key</th>\n      <th>...</th>\n      <th>time_signature</th>\n      <th>album_name</th>\n      <th>album_released</th>\n      <th>album_peaked_on</th>\n      <th>days_to_peak</th>\n      <th>total_sales_US</th>\n      <th>swear_words_album</th>\n      <th>number_of_songs</th>\n      <th>duration_of_album</th>\n      <th>duration_per_song</th>\n    </tr>\n  </thead>\n  <tbody>\n    <tr>\n      <th>0</th>\n      <td>['AD', 'AE', 'AR', 'AT', 'AU', 'BE', 'BG', 'BH...</td>\n      <td>1</td>\n      <td>33093</td>\n      <td>True</td>\n      <td>59z8uxWZVFpL2LfZ5C9AzY</td>\n      <td>Public Service Announcement</td>\n      <td>1</td>\n      <td>0.660</td>\n      <td>0.199</td>\n      <td>9</td>\n      <td>...</td>\n      <td>1</td>\n      <td>The Slim Shady LP Expanded</td>\n      <td>2/23/99</td>\n      <td>3/13/99</td>\n      <td>18</td>\n      <td>4,000,000</td>\n      <td>210.0</td>\n      <td>30</td>\n      <td>92.683183</td>\n      <td>3.089439</td>\n    </tr>\n    <tr>\n      <th>1</th>\n      <td>['AD', 'AE', 'AR', 'AT', 'AU', 'BE', 'BG', 'BH...</td>\n      <td>1</td>\n      <td>268400</td>\n      <td>True</td>\n      <td>0Fv6CfegUbD5Egs0dj8CVB</td>\n      <td>My Name Is</td>\n      <td>2</td>\n      <td>0.845</td>\n      <td>0.682</td>\n      <td>9</td>\n      <td>...</td>\n      <td>4</td>\n      <td>The Slim Shady LP Expanded</td>\n      <td>2/23/99</td>\n      <td>3/13/99</td>\n      <td>18</td>\n      <td>4,000,000</td>\n      <td>210.0</td>\n      <td>30</td>\n      <td>92.683183</td>\n      <td>3.089439</td>\n    </tr>\n    <tr>\n      <th>2</th>\n      <td>['AD', 'AE', 'AR', 'AT', 'AU', 'BE', 'BG', 'BH...</td>\n      <td>1</td>\n      <td>199333</td>\n      <td>True</td>\n      <td>2iW8D4Vdy8lrOEBkYEJOzd</td>\n      <td>Guilty Conscience</td>\n      <td>3</td>\n      <td>0.723</td>\n      <td>0.786</td>\n      <td>7</td>\n      <td>...</td>\n      <td>4</td>\n      <td>The Slim Shady LP Expanded</td>\n      <td>2/23/99</td>\n      <td>3/13/99</td>\n      <td>18</td>\n      <td>4,000,000</td>\n      <td>210.0</td>\n      <td>30</td>\n      <td>92.683183</td>\n      <td>3.089439</td>\n    </tr>\n    <tr>\n      <th>3</th>\n      <td>['AD', 'AE', 'AR', 'AT', 'AU', 'BE', 'BG', 'BH...</td>\n      <td>1</td>\n      <td>226706</td>\n      <td>True</td>\n      <td>7iwK7RjGGJW9jdPj8ny754</td>\n      <td>Brain Damage</td>\n      <td>4</td>\n      <td>0.871</td>\n      <td>0.602</td>\n      <td>2</td>\n      <td>...</td>\n      <td>4</td>\n      <td>The Slim Shady LP Expanded</td>\n      <td>2/23/99</td>\n      <td>3/13/99</td>\n      <td>18</td>\n      <td>4,000,000</td>\n      <td>210.0</td>\n      <td>30</td>\n      <td>92.683183</td>\n      <td>3.089439</td>\n    </tr>\n    <tr>\n      <th>4</th>\n      <td>['AD', 'AE', 'AR', 'AT', 'AU', 'BE', 'BG', 'BH...</td>\n      <td>1</td>\n      <td>15800</td>\n      <td>True</td>\n      <td>4QB28IqGl9W8sDcIK7eBIW</td>\n      <td>Paul - Skit</td>\n      <td>5</td>\n      <td>0.829</td>\n      <td>0.253</td>\n      <td>10</td>\n      <td>...</td>\n      <td>3</td>\n      <td>The Slim Shady LP Expanded</td>\n      <td>2/23/99</td>\n      <td>3/13/99</td>\n      <td>18</td>\n      <td>4,000,000</td>\n      <td>210.0</td>\n      <td>30</td>\n      <td>92.683183</td>\n      <td>3.089439</td>\n    </tr>\n  </tbody>\n</table>\n<p>5 rows × 28 columns</p>\n</div>"
     },
     "execution_count": 4,
     "metadata": {},
     "output_type": "execute_result"
    }
   ],
   "source": [
    "df1.head(5)"
   ],
   "metadata": {
    "collapsed": false,
    "pycharm": {
     "name": "#%%\n"
    }
   }
  }
 ],
 "metadata": {
  "kernelspec": {
   "display_name": "Python 3",
   "language": "python",
   "name": "python3"
  },
  "language_info": {
   "codemirror_mode": {
    "name": "ipython",
    "version": 2
   },
   "file_extension": ".py",
   "mimetype": "text/x-python",
   "name": "python",
   "nbconvert_exporter": "python",
   "pygments_lexer": "ipython2",
   "version": "2.7.6"
  }
 },
 "nbformat": 4,
 "nbformat_minor": 0
}